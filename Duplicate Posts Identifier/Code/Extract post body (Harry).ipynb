{
 "cells": [
  {
   "cell_type": "code",
   "execution_count": 13,
   "metadata": {},
   "outputs": [],
   "source": [
    "import json\n",
    "import numpy as np\n",
    "import pandas as pd\n",
    "import winsound\n",
    "import os"
   ]
  },
  {
   "cell_type": "code",
   "execution_count": 14,
   "metadata": {},
   "outputs": [],
   "source": [
    "def cleansentence(string):\n",
    "    rows = string.replace(\"ï¿½\",\" \")\n",
    "    rows = rows.replace(\"<p>\",\"\")\n",
    "    rows = rows.replace(\"<\\/p>\",\"\")\n",
    "    rows = rows.replace(\"</p>\",\"\")\n",
    "    rows = rows.replace(\"<br />\",\" \")\n",
    "    rows = rows.replace(\"\\n\", \"\") # NOT working\n",
    "    rows = rows.replace(\"\\r\", \"\")\n",
    "    rows = rows.replace(\"\\t\", \"\")\n",
    "    rows = rows.replace(\"&#39;\",\"'\")\n",
    "    rows = rows.replace(\"&#34;\",'\"')\n",
    "    rows = rows.replace(\"&quot\",'\"')\n",
    "    rows = rows.replace(\"<b>\",\"\")\n",
    "    rows = rows.replace(\"<\\/b>\",\"\")\n",
    "    rows = rows.replace(\"\\u201c\",\"\") # NOT working\n",
    "    rows = rows.replace(\"\\u201d\",\"\") # NOT working\n",
    "    rows = rows.replace(\"<h1>\",\"\")\n",
    "    rows = rows.replace(\"<\\/h1>\",\"\")\n",
    "    rows = rows.replace(\"\\u2019\",\"'\") # NOT working\n",
    "    # remove very short posts (< 20 characters)\n",
    "    if len(rows) < 20:\n",
    "        rows = ''\n",
    "    return rows"
   ]
  },
  {
   "cell_type": "code",
   "execution_count": 15,
   "metadata": {},
   "outputs": [],
   "source": [
    "for i in ['2', '3', '5', '6', '7', '8']:\n",
    "    path = os.getcwd()\n",
    "    name = 'Comp401-Fall-201' + str(i)\n",
    "    path = path + '\\\\' + name + '.json'   #change t\n",
    "    with open(path) as f:\n",
    "        data = json.load(f)\n",
    "    post_body=[]\n",
    "    for item in data:\n",
    "        # Get subject data\n",
    "        if 'subject' in item.keys():\n",
    "            post_body.append(item['subject'])\n",
    "        # Get subject data in children (there will be multiple layers of children)\n",
    "        if 'children' in item.keys():\n",
    "            children=item['children']\n",
    "            for y1 in children:\n",
    "                for lit in y1:\n",
    "                    if 'subject' in lit.keys():\n",
    "                        post_body.append(lit['subject'])\n",
    "                    if 'children' in lit.keys():\n",
    "                        sub_children= lit['children']\n",
    "                        for z1 in sub_children:\n",
    "                            if 'subject' in z1.keys():\n",
    "                                post_body.append(z1['subject'])\n",
    "                            if 'children' in z1.keys():\n",
    "                                sub_sub_children=z1['children']\n",
    "                                for w1 in sub_sub_children:\n",
    "                                    if 'subject' in w1.keys():\n",
    "                                        post_body.append(w1['subject'])\n",
    "    cleaned_post_body = []\n",
    "    # Clean unnecessary marks and tags, and eliminate short posts\n",
    "    for word in post_body:\n",
    "        cleaned = cleansentence(word)\n",
    "        if len(cleaned)!=0:\n",
    "            cleaned_post_body.append(cleaned)\n",
    "    with open(name + \"(extracted)new.txt\", 'w') as f:\n",
    "        for line in cleaned_post_body:\n",
    "            f.write(line)\n",
    "            f.write('\\n')"
   ]
  }
 ],
 "metadata": {
  "kernelspec": {
   "display_name": "Python 3",
   "language": "python",
   "name": "python3"
  },
  "language_info": {
   "codemirror_mode": {
    "name": "ipython",
    "version": 3
   },
   "file_extension": ".py",
   "mimetype": "text/x-python",
   "name": "python",
   "nbconvert_exporter": "python",
   "pygments_lexer": "ipython3",
   "version": "3.8.5"
  }
 },
 "nbformat": 4,
 "nbformat_minor": 4
}
