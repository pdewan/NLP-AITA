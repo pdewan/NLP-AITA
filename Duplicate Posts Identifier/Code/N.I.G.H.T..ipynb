{
 "cells": [
  {
   "cell_type": "code",
   "execution_count": 160,
   "metadata": {},
   "outputs": [
    {
     "name": "stdout",
     "output_type": "stream",
     "text": [
      "Welcome to use Names In Generically Huge Transcipt NIGHT v1.0\n"
     ]
    }
   ],
   "source": [
    "import json\n",
    "import numpy as np\n",
    "import pandas as pd\n",
    "import winsound\n",
    "import os\n",
    "print ('Welcome to use Names In Generically Huge Transcipt NIGHT v1.0')"
   ]
  },
  {
   "cell_type": "code",
   "execution_count": 120,
   "metadata": {},
   "outputs": [],
   "source": [
    "def cleansentence(string):\n",
    "    rows = string.replace(\"ï¿½\",\" \")\n",
    "    rows = rows.replace(\"<p>\",\"\")\n",
    "    rows = rows.replace(\"<\\/p>\",\"\")\n",
    "    rows = rows.replace(\"</p>\",\"\")\n",
    "    rows = rows.replace(\"<br />\",\" \")\n",
    "    rows = rows.replace(\"\\n\", \"\") # NOT working\n",
    "    rows = rows.replace(\"\\r\", \"\")\n",
    "    rows = rows.replace(\"\\t\", \"\")\n",
    "    rows = rows.replace(\"&#39;\",\"'\")\n",
    "    rows = rows.replace(\"&#34;\",'\"')\n",
    "    rows = rows.replace(\"&quot\",'\"')\n",
    "    rows = rows.replace(\"<b>\",\"\")\n",
    "    rows = rows.replace(\"<\\/b>\",\"\")\n",
    "    rows = rows.replace(\"\\u201c\",\"\") # NOT working\n",
    "    rows = rows.replace(\"\\u201d\",\"\") # NOT working\n",
    "    rows = rows.replace(\"<h1>\",\"\")\n",
    "    rows = rows.replace(\"<\\/h1>\",\"\")\n",
    "    rows = rows.replace(\"\\u2019\",\"'\") # NOT working\n",
    "    # remove very short posts (< 10 characters)\n",
    "    if len(rows) < 20:\n",
    "        rows = ''\n",
    "    return rows"
   ]
  },
  {
   "cell_type": "code",
   "execution_count": 172,
   "metadata": {},
   "outputs": [],
   "source": [
    "import json\n",
    "path = os.getcwd()\n",
    "path = path+'\\\\Dewan-Comp401'\n",
    "name = path+'\\\\Comp401-Fall-2012.json'   #change the file name here\n",
    "with open(name) as f:\n",
    "    data = json.load(f)\n",
    "\n",
    "#print(data[len(data)-2])"
   ]
  },
  {
   "cell_type": "code",
   "execution_count": 173,
   "metadata": {},
   "outputs": [],
   "source": [
    "#file_names = [\"Comp401-Fall-2012\",\"Comp401-Fall-2013\",\"Comp401-Fall-2015\", \"Comp401-Fall-2016\",\"Comp401-Fall-2017\", \"Comp401-Fall-2018\"]\n",
    "x=[]\n",
    "for item in data:\n",
    "    if 'subject' in item.keys():\n",
    "        x.append(item['subject'])\n",
    "    if 'children' in item.keys():\n",
    "        y=item['children']\n",
    "        for y1 in y:\n",
    "            for lit in y1:\n",
    "                if 'subject' in lit.keys():\n",
    "                    x.append(lit['subject'])\n",
    "                if 'children' in lit.keys():\n",
    "                    z= lit['children']\n",
    "                    for z1 in z:\n",
    "                        if 'subject' in z1.keys():\n",
    "                            x.append(z1['subject'])\n",
    "                        if 'children' in z1.keys():\n",
    "                            w=z1['children']\n",
    "                            for w1 in w:\n",
    "                                if 'subject' in w1.keys():\n",
    "                                    x.append(w1['subject'])\n",
    "len(x)\n",
    "cl = []\n",
    "for word in x:\n",
    "    cleaned = cleansentence(word)\n",
    "    if len(cleaned)!=0:\n",
    "        cl.append(cleaned)       \n",
    "with open(\"Comp401-Fall-2012\" + \"(extracted)new.txt\", 'w') as f:    #change the out put name here\n",
    "    for line in cl:\n",
    "        f.write(line)\n",
    "        f.write('\\n')"
   ]
  },
  {
   "cell_type": "code",
   "execution_count": 177,
   "metadata": {},
   "outputs": [],
   "source": [
    "#jsonStr = json.dump(cl,'try.json')\n",
    "with open('result.json', 'w') as fp:\n",
    "    json.dump(cl, fp)"
   ]
  },
  {
   "cell_type": "code",
   "execution_count": 43,
   "metadata": {},
   "outputs": [],
   "source": [
    "x=[]\n",
    "x.append(1)"
   ]
  },
  {
   "cell_type": "code",
   "execution_count": 147,
   "metadata": {},
   "outputs": [
    {
     "data": {
      "text/plain": [
       "24"
      ]
     },
     "execution_count": 147,
     "metadata": {},
     "output_type": "execute_result"
    }
   ],
   "source": [
    "a='Get familiar with Piazza'\n",
    "len(a)"
   ]
  },
  {
   "cell_type": "code",
   "execution_count": 12,
   "metadata": {},
   "outputs": [],
   "source": [
    "import numpy as np\n",
    "import pandas as pd\n",
    "from datetime import datetime\n",
    "from matplotlib import pyplot as plt\n",
    "\n"
   ]
  },
  {
   "cell_type": "code",
   "execution_count": 49,
   "metadata": {},
   "outputs": [
    {
     "data": {
      "text/plain": [
       "Text(0,0.5,'# of Questions')"
      ]
     },
     "execution_count": 49,
     "metadata": {},
     "output_type": "execute_result"
    },
    {
     "data": {
      "image/png": "[encoded data removed]",
      "text/plain": [
       "<Figure size 576x432 with 1 Axes>"
      ]
     },
     "metadata": {
      "needs_background": "light"
     },
     "output_type": "display_data"
    }
   ],
   "source": [
    "a=pd.read_excel('OH.xlsx')\n",
    "b=a['Time']\n",
    "c=[]\n",
    "d=a['Solved']\n",
    "e=[]\n",
    "f=[]\n",
    "f1=[]\n",
    "for i in b:\n",
    "    c.append(i.hour*60+i.minute+i.second/60)\n",
    "for j in d:\n",
    "    f.append(j)\n",
    "    f1.append(not j)\n",
    "    if j:\n",
    "        e.append(1)\n",
    "    else:\n",
    "        e.append(0)\n",
    "\n",
    "g=np.array(c)[f]\n",
    "h1 = np.histogram(g,bins = 5)\n",
    "\n",
    "i=np.array(c)[f1]\n",
    "h2 = np.histogram(i,bins = 5)\n",
    "\n",
    "#plt.figure(figsize=(8,6))\n",
    "#plt.scatter(h1[1],h1[0],c='blue')\n",
    "h3=(h1[1][1:]+h1[1][:-1])/2\n",
    "h4=(h2[1][1:]+h2[1][:-1])/2\n",
    "\n",
    "plt.figure(figsize=(8,6))\n",
    "plt.plot(h3,h1[0],c='blue',marker='o',linestyle='dashed')\n",
    "plt.plot(h4,h2[0],c='red',marker='*',linestyle='-')\n",
    "plt.legend(['Solved','Unsolved'])\n",
    "plt.xlabel('Time (min)')\n",
    "plt.ylabel('# of Questions')"
   ]
  },
  {
   "cell_type": "markdown",
   "metadata": {},
   "source": [
    "\n"
   ]
  },
  {
   "cell_type": "code",
   "execution_count": null,
   "metadata": {},
   "outputs": [],
   "source": [
    "\n"
   ]
  }
 ],
 "metadata": {
  "kernelspec": {
   "display_name": "Python 3 (ipykernel)",
   "language": "python",
   "name": "python3"
  },
  "language_info": {
   "codemirror_mode": {
    "name": "ipython",
    "version": 3
   },
   "file_extension": ".py",
   "mimetype": "text/x-python",
   "name": "python",
   "nbconvert_exporter": "python",
   "pygments_lexer": "ipython3",
   "version": "3.9.12"
  }
 },
 "nbformat": 4,
 "nbformat_minor": 4
}
