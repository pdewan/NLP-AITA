{
 "cells": [
  {
   "cell_type": "code",
   "execution_count": 22,
   "metadata": {},
   "outputs": [
    {
     "name": "stdout",
     "output_type": "stream",
     "text": [
      "[nltk_data] Downloading package stopwords to\n",
      "[nltk_data]     C:\\Users\\Alchemist\\AppData\\Roaming\\nltk_data...\n",
      "[nltk_data]   Package stopwords is already up-to-date!\n",
      "[nltk_data] Downloading package punkt to\n",
      "[nltk_data]     C:\\Users\\Alchemist\\AppData\\Roaming\\nltk_data...\n",
      "[nltk_data]   Package punkt is already up-to-date!\n"
     ]
    }
   ],
   "source": [
    "import numpy as np # linear algebra\n",
    "import pandas as pd # data processing, CSV file I/O (e.g. pd.read_csv)\n",
    "import matplotlib.pyplot as plt\n",
    "import seaborn as sns\n",
    "from nltk.corpus import stopwords\n",
    "from nltk import word_tokenize, ngrams\n",
    "from sklearn import ensemble\n",
    "from sklearn.model_selection import KFold\n",
    "from sklearn.metrics import log_loss\n",
    "import xgboost as xgb\n",
    "from collections import Counter\n",
    "import nltk\n",
    "nltk.download('stopwords')\n",
    "nltk.download('punkt')\n",
    "from nltk.corpus import stopwords\n",
    "from sklearn.model_selection import train_test_split \n",
    "\n",
    "eng_stopwords = set(stopwords.words('english'))\n",
    "color = sns.color_palette()\n",
    "\n",
    "%matplotlib inline\n",
    "\n",
    "pd.options.mode.chained_assignment = None  # default='warn'"
   ]
  },
  {
   "cell_type": "code",
   "execution_count": 3,
   "metadata": {},
   "outputs": [
    {
     "name": "stdout",
     "output_type": "stream",
     "text": [
      "(404290, 6)\n",
      "(4290, 4)\n"
     ]
    }
   ],
   "source": [
    "train_df = pd.read_csv(\"train.csv\")\n",
    "test_df = pd.read_csv(\"test.csv\")\n",
    "print(train_df.shape)\n",
    "print(test_df.shape)"
   ]
  },
  {
   "cell_type": "markdown",
   "metadata": {},
   "source": [
    "# Adding \"TF-IDF\" feature"
   ]
  },
  {
   "cell_type": "code",
   "execution_count": 4,
   "metadata": {},
   "outputs": [
    {
     "name": "stdout",
     "output_type": "stream",
     "text": [
      "Most common words and weights: \n",
      "\n",
      "[('the', 2.5891040146646852e-06), ('what', 3.115623919267953e-06), ('is', 3.5861702928825277e-06), ('how', 4.366449945201053e-06), ('i', 4.4805878531263305e-06), ('a', 4.540645588989843e-06), ('to', 4.671434644293609e-06), ('in', 4.884625153865692e-06), ('of', 5.920242493132519e-06), ('do', 6.070908207867897e-06)]\n",
      "\n",
      "Least common words and weights: \n"
     ]
    },
    {
     "data": {
      "text/plain": [
       "[('シ', 9.998000399920016e-05),\n",
       " ('し?', 9.998000399920016e-05),\n",
       " ('19-year-old.', 9.998000399920016e-05),\n",
       " ('1-855-425-3768', 9.998000399920016e-05),\n",
       " ('confederates', 9.998000399920016e-05),\n",
       " ('asahi', 9.998000399920016e-05),\n",
       " ('fab', 9.998000399920016e-05),\n",
       " ('109?', 9.998000399920016e-05),\n",
       " ('samrudi', 9.998000399920016e-05),\n",
       " ('fulfill?', 9.998000399920016e-05)]"
      ]
     },
     "execution_count": 4,
     "metadata": {},
     "output_type": "execute_result"
    }
   ],
   "source": [
    "train_qs = pd.Series(train_df['question1'].tolist() + train_df['question2'].tolist()).astype(str)\n",
    "\n",
    "# If a word appears only once, we ignore it completely (likely a typo)\n",
    "# Epsilon defines a smoothing constant, which makes the effect of extremely rare words smaller\n",
    "def get_weight(count, eps=10000, min_count=2):\n",
    "    if count < min_count:\n",
    "        return 0\n",
    "    else:\n",
    "        return 1 / (count + eps)\n",
    "\n",
    "eps = 5000 \n",
    "words = (\" \".join(train_qs)).lower().split()\n",
    "counts = Counter(words)\n",
    "weights = {word: get_weight(count) for word, count in counts.items()}\n",
    "\n",
    "print('Most common words and weights: \\n')\n",
    "print(sorted(weights.items(), key=lambda x: x[1] if x[1] > 0 else 9999)[:10])\n",
    "print('\\nLeast common words and weights: ')\n",
    "(sorted(weights.items(), key=lambda x: x[1], reverse=True)[:10])"
   ]
  },
  {
   "cell_type": "code",
   "execution_count": 5,
   "metadata": {},
   "outputs": [],
   "source": [
    "stops = set(stopwords.words(\"english\"))\n",
    "\n",
    "\n",
    "def word_match_share(row):\n",
    "    q1words = {}\n",
    "    q2words = {}\n",
    "    for word in str(row[3]).lower().split():\n",
    "        if word not in stops:\n",
    "            q1words[word] = 1\n",
    "    for word in str(row[4]).lower().split():\n",
    "        if word not in stops:\n",
    "            q2words[word] = 1\n",
    "    if len(q1words) == 0 or len(q2words) == 0:\n",
    "        # The computer-generated chaff includes a few questions that are nothing but stopwords\n",
    "        return 0\n",
    "    shared_words_in_q1 = [w for w in q1words.keys() if w in q2words]\n",
    "    shared_words_in_q2 = [w for w in q2words.keys() if w in q1words]\n",
    "    R = (len(shared_words_in_q1) + len(shared_words_in_q2))/(len(q1words) + len(q2words))\n",
    "    return R\n",
    "\n",
    "train_word_match = train_df.apply(word_match_share, axis=1, raw=True)"
   ]
  },
  {
   "cell_type": "code",
   "execution_count": 6,
   "metadata": {},
   "outputs": [
    {
     "data": {
      "text/plain": [
       "Text(0.5,0,'word_match_share')"
      ]
     },
     "execution_count": 6,
     "metadata": {},
     "output_type": "execute_result"
    },
    {
     "data": {
      "image/png": "[encoded data removed]",
      "text/plain": [
       "<Figure size 1080x360 with 1 Axes>"
      ]
     },
     "metadata": {
      "needs_background": "light"
     },
     "output_type": "display_data"
    }
   ],
   "source": [
    "plt.figure(figsize=(15, 5))\n",
    "plt.hist(train_word_match[train_df['is_duplicate'] == 0], bins=20, density=True, label='Not Duplicate')\n",
    "plt.hist(train_word_match[train_df['is_duplicate'] == 1], bins=20, density=True, alpha=0.7, label='Duplicate')\n",
    "plt.legend()\n",
    "plt.title('Label distribution over word_match_share', fontsize=15)\n",
    "plt.xlabel('word_match_share', fontsize=15)"
   ]
  },
  {
   "cell_type": "code",
   "execution_count": 7,
   "metadata": {},
   "outputs": [
    {
     "name": "stderr",
     "output_type": "stream",
     "text": [
      "C:\\ProgramData\\Anaconda3\\lib\\site-packages\\ipykernel_launcher.py:17: RuntimeWarning: invalid value encountered in double_scalars\n"
     ]
    }
   ],
   "source": [
    "def tfidf_word_match_share(row):\n",
    "    q1words = {}\n",
    "    q2words = {}\n",
    "    for word in str(row[3]).lower().split():\n",
    "        if word not in stops:\n",
    "            q1words[word] = 1\n",
    "    for word in str(row[4]).lower().split():\n",
    "        if word not in stops:\n",
    "            q2words[word] = 1\n",
    "    if len(q1words) == 0 or len(q2words) == 0:\n",
    "        # The computer-generated chaff includes a few questions that are nothing but stopwords\n",
    "        return 0\n",
    "    \n",
    "    shared_weights = [weights.get(w, 0) for w in q1words.keys() if w in q2words] + [weights.get(w, 0) for w in q2words.keys() if w in q1words]\n",
    "    total_weights = [weights.get(w, 0) for w in q1words] + [weights.get(w, 0) for w in q2words]\n",
    "    \n",
    "    R = np.sum(shared_weights) / np.sum(total_weights)\n",
    "    return R\n",
    "\n",
    "tfidf_train_word_match = train_df.apply(tfidf_word_match_share, axis=1, raw=True)"
   ]
  },
  {
   "cell_type": "code",
   "execution_count": 8,
   "metadata": {},
   "outputs": [
    {
     "data": {
      "text/plain": [
       "Text(0.5,0,'word_match_share')"
      ]
     },
     "execution_count": 8,
     "metadata": {},
     "output_type": "execute_result"
    },
    {
     "data": {
      "image/png": "[encoded data removed]",
      "text/plain": [
       "<Figure size 1080x360 with 1 Axes>"
      ]
     },
     "metadata": {
      "needs_background": "light"
     },
     "output_type": "display_data"
    }
   ],
   "source": [
    "plt.figure(figsize=(15, 5))\n",
    "plt.hist(tfidf_train_word_match[train_df['is_duplicate'] == 0].fillna(0), bins=20, density=True, label='Not Duplicate')\n",
    "plt.hist(tfidf_train_word_match[train_df['is_duplicate'] == 1].fillna(0), bins=20, density=True, alpha=0.7, label='Duplicate')\n",
    "plt.legend()\n",
    "plt.title('Label distribution over tfidf_word_match_share', fontsize=15)\n",
    "plt.xlabel('word_match_share', fontsize=15)"
   ]
  },
  {
   "cell_type": "code",
   "execution_count": 9,
   "metadata": {},
   "outputs": [],
   "source": [
    "def test_word_match_share(row):\n",
    "    q1words = {}\n",
    "    q2words = {}\n",
    "    for word in str(row[1]).lower().split():\n",
    "        if word not in stops:\n",
    "            q1words[word] = 1\n",
    "    for word in str(row[2]).lower().split():\n",
    "        if word not in stops:\n",
    "            q2words[word] = 1\n",
    "    if len(q1words) == 0 or len(q2words) == 0:\n",
    "        # The computer-generated chaff includes a few questions that are nothing but stopwords\n",
    "        return 0\n",
    "    shared_words_in_q1 = [w for w in q1words.keys() if w in q2words]\n",
    "    shared_words_in_q2 = [w for w in q2words.keys() if w in q1words]\n",
    "    R = (len(shared_words_in_q1) + len(shared_words_in_q2))/(len(q1words) + len(q2words))\n",
    "    return R"
   ]
  },
  {
   "cell_type": "code",
   "execution_count": 10,
   "metadata": {},
   "outputs": [],
   "source": [
    "def test_tfidf_word_match_share(row):\n",
    "    q1words = {}\n",
    "    q2words = {}\n",
    "    for word in str(row[1]).lower().split():\n",
    "        if word not in stops:\n",
    "            q1words[word] = 1\n",
    "    for word in str(row[2]).lower().split():\n",
    "        if word not in stops:\n",
    "            q2words[word] = 1\n",
    "    if len(q1words) == 0 or len(q2words) == 0:\n",
    "        # The computer-generated chaff includes a few questions that are nothing but stopwords\n",
    "        return 0\n",
    "    \n",
    "    shared_weights = [weights.get(w, 0) for w in q1words.keys() if w in q2words] + [weights.get(w, 0) for w in q2words.keys() if w in q1words]\n",
    "    total_weights = [weights.get(w, 0) for w in q1words] + [weights.get(w, 0) for w in q2words]\n",
    "    \n",
    "    R = np.sum(shared_weights) / np.sum(total_weights)\n",
    "    return R"
   ]
  },
  {
   "cell_type": "code",
   "execution_count": 11,
   "metadata": {},
   "outputs": [],
   "source": [
    "train_df['word_match'] = train_word_match\n",
    "train_df['tfidf_word_match'] = tfidf_train_word_match\n",
    "test_df['word_match'] = test_df.apply(test_word_match_share, axis=1, raw=True)\n",
    "test_df['tfidf_word_match'] = test_df.apply(test_tfidf_word_match_share, axis=1, raw=True)"
   ]
  },
  {
   "cell_type": "markdown",
   "metadata": {},
   "source": [
    "# Adding \"unigrams\" feature"
   ]
  },
  {
   "cell_type": "code",
   "execution_count": 12,
   "metadata": {},
   "outputs": [],
   "source": [
    "def get_unigrams(que):\n",
    "    return [word for word in word_tokenize(que.lower()) if word not in eng_stopwords]\n",
    "\n",
    "def get_common_unigrams(row):\n",
    "    return len( set(row[\"unigrams_ques1\"]).intersection(set(row[\"unigrams_ques2\"])) )\n",
    "\n",
    "def get_common_unigram_ratio(row):\n",
    "    return float(row[\"unigrams_common_count\"]) / max(len( set(row[\"unigrams_ques1\"]).union(set(row[\"unigrams_ques2\"])) ),1)\n",
    "\n",
    "train_df[\"unigrams_ques1\"] = train_df['question1'].apply(lambda x: get_unigrams(str(x)))\n",
    "train_df[\"unigrams_ques2\"] = train_df['question2'].apply(lambda x: get_unigrams(str(x)))\n",
    "train_df[\"unigrams_common_count\"] = train_df.apply(lambda row: get_common_unigrams(row),axis=1)\n",
    "train_df[\"unigrams_common_ratio\"] = train_df.apply(lambda row: get_common_unigram_ratio(row), axis=1)\n",
    "\n",
    "test_df[\"unigrams_ques1\"] = test_df['question1'].apply(lambda x: get_unigrams(str(x)))\n",
    "test_df[\"unigrams_ques2\"] = test_df['question2'].apply(lambda x: get_unigrams(str(x)))\n",
    "test_df[\"unigrams_common_count\"] = test_df.apply(lambda row: get_common_unigrams(row),axis=1)\n",
    "test_df[\"unigrams_common_ratio\"] = test_df.apply(lambda row: get_common_unigram_ratio(row), axis=1)"
   ]
  },
  {
   "cell_type": "markdown",
   "metadata": {},
   "source": [
    "# Adding \"Leaky Features\" (frequency + intersection)"
   ]
  },
  {
   "cell_type": "code",
   "execution_count": 13,
   "metadata": {},
   "outputs": [
    {
     "data": {
      "text/plain": [
       "(408580, 2)"
      ]
     },
     "execution_count": 13,
     "metadata": {},
     "output_type": "execute_result"
    }
   ],
   "source": [
    "ques = pd.concat([train_df[['question1', 'question2']], \\\n",
    "        test_df[['question1', 'question2']]], axis=0).reset_index(drop='index')\n",
    "ques.shape"
   ]
  },
  {
   "cell_type": "code",
   "execution_count": 14,
   "metadata": {},
   "outputs": [],
   "source": [
    "from collections import defaultdict\n",
    "q_dict = defaultdict(set)\n",
    "for i in range(ques.shape[0]):\n",
    "        q_dict[ques.question1[i]].add(ques.question2[i])\n",
    "        q_dict[ques.question2[i]].add(ques.question1[i])"
   ]
  },
  {
   "cell_type": "code",
   "execution_count": 15,
   "metadata": {},
   "outputs": [],
   "source": [
    "def q1_freq(row):\n",
    "    return(len(q_dict[row[3]]))\n",
    "    \n",
    "def q2_freq(row):\n",
    "    return(len(q_dict[row[4]]))\n",
    "    \n",
    "def q1_q2_intersect(row):\n",
    "    return(len(set(q_dict[row[3]]).intersection(set(q_dict[row[4]]))))\n",
    "\n",
    "train_df['q1_q2_intersect'] = train_df.apply(q1_q2_intersect, axis=1, raw=True)\n",
    "train_df['q1_freq'] = train_df.apply(q1_freq, axis=1, raw=True)\n",
    "train_df['q2_freq'] = train_df.apply(q2_freq, axis=1, raw=True)"
   ]
  },
  {
   "cell_type": "code",
   "execution_count": 16,
   "metadata": {},
   "outputs": [],
   "source": [
    "def q1_freq_test(row):\n",
    "    return(len(q_dict[row[1]]))\n",
    "    \n",
    "def q2_freq_test(row):\n",
    "    return(len(q_dict[row[2]]))\n",
    "    \n",
    "def q1_q2_intersect_test(row):\n",
    "    return(len(set(q_dict[row[1]]).intersection(set(q_dict[row[2]]))))\n",
    "\n",
    "test_df['q1_q2_intersect'] = test_df.apply(q1_q2_intersect_test, axis=1, raw=True)\n",
    "test_df['q1_freq'] = test_df.apply(q1_freq_test, axis=1, raw=True)\n",
    "test_df['q2_freq'] = test_df.apply(q2_freq_test, axis=1, raw=True)"
   ]
  },
  {
   "cell_type": "code",
   "execution_count": 17,
   "metadata": {},
   "outputs": [],
   "source": [
    "train_df.to_csv('train(unigrams + intersection + frequency).csv', index=False)\n",
    "test_df.to_csv('test(unigrams + intersection + frequency).csv', index=False)"
   ]
  },
  {
   "cell_type": "markdown",
   "metadata": {},
   "source": [
    "# Use XGBoost to test of the above features do increase accuracy"
   ]
  },
  {
   "cell_type": "code",
   "execution_count": 23,
   "metadata": {},
   "outputs": [],
   "source": [
    "# Parameters:\n",
    "# gpu_boost: If true, use GPU boost. Note: Using GPU boost may result in slight worse accuracy than using only CPU for calculation\n",
    "# data_oversample: If true, make positive rate decrease from 0.369 to 0.17 (original test data has 0.17 positive rate), this should NOT make sense since we have used different test data and the positive rate in test data is the same as the training data\n",
    "# objective_hinge: If true, make \"accuracy\" as the objective (achieve highest accuracy) and the output will be boolean values (0 or 1). If false, make \"logloss\" as the objective (achieve lowest logloss) and the output will be float values (between 0 and 1) and needs to be converted to boolean values (< 0.5 means 0 and 1 otherwise)\n",
    "# output_csv: If true, output corresponding csv file. Note: May overwrite previous file, please double check before running\n",
    "\n",
    "def xgb_model(gpu_boost = True, data_oversample = False, objective_hinge = True, output_csv = True):\n",
    "    if data_oversample: \n",
    "        # Rebalance the data to make it closer to the test set\n",
    "        pos_boostrap_sample = train_df[train_df[\"is_duplicate\"] == 0].sample(n = 500000, replace = True)\n",
    "        rebalanced_df = pd.concat((pos_boostrap_sample, train_df))\n",
    "        print(\"Positive rate: {}%\".format(round(rebalanced_df['is_duplicate'].value_counts()[1] / (rebalanced_df['is_duplicate'].value_counts()[0] + rebalanced_df['is_duplicate'].value_counts()[1]), 3)))\n",
    "        \n",
    "        x_train = pd.DataFrame()\n",
    "        x_test = pd.DataFrame()\n",
    "        y_train = pd.DataFrame()\n",
    "        y_test = pd.DataFrame()\n",
    "\n",
    "        x_train['unigrams_common_count'] = rebalanced_df['unigrams_common_count']\n",
    "        x_train['unigrams_common_ratio'] = rebalanced_df['unigrams_common_ratio']\n",
    "        x_train['q1_q2_intersect'] = rebalanced_df['q1_q2_intersect']\n",
    "        x_train['q1_freq'] = rebalanced_df['q1_freq']\n",
    "        x_train['q2_freq'] = rebalanced_df['q2_freq']\n",
    "        x_train['word_match'] = rebalanced_df['word_match']\n",
    "        x_train['tfidf_word_match'] = rebalanced_df['tfidf_word_match']\n",
    "\n",
    "        x_test['unigrams_common_count'] = test_df['unigrams_common_count']\n",
    "        x_test['unigrams_common_ratio'] = test_df['unigrams_common_ratio']\n",
    "        x_test['q1_q2_intersect'] = test_df['q1_q2_intersect']\n",
    "        x_test['q1_freq'] = test_df['q1_freq']\n",
    "        x_test['q2_freq'] = test_df['q2_freq']\n",
    "        x_test['word_match'] = test_df['word_match']\n",
    "        x_test['tfidf_word_match'] = test_df['tfidf_word_match']\n",
    "\n",
    "        y_train['is_duplicate'] = rebalanced_df['is_duplicate']\n",
    "        y_test['is_duplicate (Ture Value)'] = test_df['is_duplicate (Ture Value)']\n",
    "        \n",
    "    else:\n",
    "        print(\"Positive rate: {}%\".format(round(train_df['is_duplicate'].value_counts()[1] / (train_df['is_duplicate'].value_counts()[0] + train_df['is_duplicate'].value_counts()[1]), 3)))\n",
    "        x_train = pd.DataFrame()\n",
    "        x_test = pd.DataFrame()\n",
    "        y_train = pd.DataFrame()\n",
    "        y_test = pd.DataFrame()\n",
    "\n",
    "        x_train['unigrams_common_count'] = train_df['unigrams_common_count']\n",
    "        x_train['unigrams_common_ratio'] = train_df['unigrams_common_ratio']\n",
    "        x_train['q1_q2_intersect'] = train_df['q1_q2_intersect']\n",
    "        x_train['q1_freq'] = train_df['q1_freq']\n",
    "        x_train['q2_freq'] = train_df['q2_freq']\n",
    "        x_train['word_match'] = train_df['word_match']\n",
    "        x_train['tfidf_word_match'] = train_df['tfidf_word_match']\n",
    "\n",
    "        x_test['unigrams_common_count'] = test_df['unigrams_common_count']\n",
    "        x_test['unigrams_common_ratio'] = test_df['unigrams_common_ratio']\n",
    "        x_test['q1_q2_intersect'] = test_df['q1_q2_intersect']\n",
    "        x_test['q1_freq'] = test_df['q1_freq']\n",
    "        x_test['q2_freq'] = test_df['q2_freq']\n",
    "        x_test['word_match'] = test_df['word_match']\n",
    "        x_test['tfidf_word_match'] = test_df['tfidf_word_match']\n",
    "\n",
    "        y_train['is_duplicate'] = train_df['is_duplicate']\n",
    "        y_test['is_duplicate (Ture Value)'] = test_df['is_duplicate (Ture Value)']\n",
    "    \n",
    "    # Finally, we split some of the data off for validation\n",
    "    x_train, x_valid, y_train, y_valid = train_test_split(x_train, y_train, test_size=0.2, random_state=4242)\n",
    "\n",
    "    d_train = xgb.DMatrix(x_train, label=y_train)\n",
    "    d_valid = xgb.DMatrix(x_valid, label=y_valid)\n",
    "    \n",
    "    watchlist = [(d_train, 'train'), (d_valid, 'valid')]\n",
    "    \n",
    "    params = {}\n",
    "    \n",
    "    # The following parameters may be fine-tuned in the future\n",
    "    #params[\"eta\"] = 0.02\n",
    "    #params[\"gamma\"] = 0\n",
    "    #params[\"max_depth\"] = 6\n",
    "    #params[\"min_child_weight\"] = 4\n",
    "    #params[\"max_bin\"] = 256\n",
    "    #params[\"subsample\"] = 0.8\n",
    "    #params[\"colsample_bytree\"] = 0.9\n",
    "\n",
    "    if objective_hinge:\n",
    "        params['objective'] = 'binary:hinge'\n",
    "        params['eval_metric'] = 'error'\n",
    "    else:\n",
    "        params[\"objective\"] = \"binary:logistic\"\n",
    "        params[\"eval_metric\"] = \"logloss\"\n",
    "\n",
    "    if gpu_boost:\n",
    "        params[\"tree_method\"] = \"gpu_hist\"\n",
    "        bst = xgb.train(params, d_train, 100000, watchlist, early_stopping_rounds=2000, verbose_eval=10)\n",
    "    else:\n",
    "        bst = xgb.train(params, d_train, 100000, watchlist, early_stopping_rounds=200, verbose_eval=10)\n",
    "        \n",
    "    d_test = xgb.DMatrix(x_test)\n",
    "    p_test = bst.predict(d_test)\n",
    "    \n",
    "    if not objective_hinge:\n",
    "        # Convert percentage to binary predictions\n",
    "        result = []\n",
    "        for i in p_test:\n",
    "            if i < 0.5:\n",
    "                result.append(0)\n",
    "            else:\n",
    "                result.append(1)\n",
    "        result = np.array(result)\n",
    "        sub = pd.DataFrame()\n",
    "        sub['test_id'] = test_df['test_id']\n",
    "        sub['is_duplicate'] = result\n",
    "         \n",
    "        # Get the accuracy on the test data\n",
    "        true_values = test_df[\"is_duplicate (Ture Value)\"]\n",
    "\n",
    "        score = 0\n",
    "        for i in range(0, len(result)):\n",
    "            if result[i] == true_values.tolist()[i]:\n",
    "                score = score + 1\n",
    "        accuracy = score / len(result)\n",
    "        print(\"Accuracy on test data: {}%\".format(round(accuracy*100, 3)))\n",
    "    else:\n",
    "        sub = pd.DataFrame()\n",
    "        sub['test_id'] = test_df['test_id']\n",
    "        sub['is_duplicate'] = p_test\n",
    "        \n",
    "        # Get the accuracy on the test data\n",
    "        true_values = test_df[\"is_duplicate (Ture Value)\"]\n",
    "\n",
    "        score = 0\n",
    "        for i in range(0, len(p_test)):\n",
    "            if p_test[i] == true_values.tolist()[i]:\n",
    "                score = score + 1\n",
    "        accuracy = score / len(p_test)\n",
    "        print(\"Accuracy on test data: {}%\".format(round(accuracy*100, 3)))\n",
    "    \n",
    "    file_name = 'xgb(unigrams + intersection + frequency)'\n",
    "    if (gpu_boost):\n",
    "        file_name = file_name + '(gpu_boost)'\n",
    "    if (data_oversample):\n",
    "        file_name = file_name + '(data_oversample)'\n",
    "    if (objective_hinge):\n",
    "        file_name = file_name + '(objective_accuracy)'\n",
    "    else:\n",
    "        file_name = file_name + '(objective_logloss)'\n",
    "    \n",
    "    if output_csv:\n",
    "        sub.to_csv(file_name + '.csv', index=False)\n",
    "    \n",
    "   \n",
    "    "
   ]
  },
  {
   "cell_type": "code",
   "execution_count": 25,
   "metadata": {},
   "outputs": [
    {
     "name": "stdout",
     "output_type": "stream",
     "text": [
      "Positive rate: 0.369%\n",
      "[0]\ttrain-error:0.63087\tvalid-error:0.63055\n",
      "[10]\ttrain-error:0.14433\tvalid-error:0.14423\n",
      "[20]\ttrain-error:0.13372\tvalid-error:0.13367\n",
      "[30]\ttrain-error:0.13356\tvalid-error:0.13341\n",
      "[40]\ttrain-error:0.13350\tvalid-error:0.13333\n",
      "[50]\ttrain-error:0.13340\tvalid-error:0.13327\n",
      "[60]\ttrain-error:0.13322\tvalid-error:0.13325\n",
      "[70]\ttrain-error:0.13305\tvalid-error:0.13334\n",
      "[80]\ttrain-error:0.13278\tvalid-error:0.13320\n",
      "[90]\ttrain-error:0.13264\tvalid-error:0.13314\n",
      "[100]\ttrain-error:0.13240\tvalid-error:0.13306\n",
      "[110]\ttrain-error:0.13233\tvalid-error:0.13290\n",
      "[120]\ttrain-error:0.13214\tvalid-error:0.13302\n",
      "[130]\ttrain-error:0.13213\tvalid-error:0.13287\n",
      "[140]\ttrain-error:0.13206\tvalid-error:0.13287\n",
      "[150]\ttrain-error:0.13205\tvalid-error:0.13295\n",
      "[160]\ttrain-error:0.13196\tvalid-error:0.13296\n",
      "[170]\ttrain-error:0.13195\tvalid-error:0.13296\n",
      "[180]\ttrain-error:0.13190\tvalid-error:0.13294\n",
      "[190]\ttrain-error:0.13166\tvalid-error:0.13300\n",
      "[200]\ttrain-error:0.13159\tvalid-error:0.13289\n",
      "[210]\ttrain-error:0.13157\tvalid-error:0.13296\n",
      "[220]\ttrain-error:0.13153\tvalid-error:0.13291\n",
      "[230]\ttrain-error:0.13148\tvalid-error:0.13291\n",
      "[240]\ttrain-error:0.13148\tvalid-error:0.13290\n",
      "[250]\ttrain-error:0.13137\tvalid-error:0.13290\n",
      "[260]\ttrain-error:0.13133\tvalid-error:0.13282\n",
      "[270]\ttrain-error:0.13126\tvalid-error:0.13285\n",
      "[280]\ttrain-error:0.13117\tvalid-error:0.13294\n",
      "[290]\ttrain-error:0.13109\tvalid-error:0.13292\n",
      "[300]\ttrain-error:0.13106\tvalid-error:0.13292\n",
      "[310]\ttrain-error:0.13098\tvalid-error:0.13290\n",
      "[320]\ttrain-error:0.13094\tvalid-error:0.13289\n",
      "[330]\ttrain-error:0.13088\tvalid-error:0.13287\n",
      "[340]\ttrain-error:0.13083\tvalid-error:0.13275\n",
      "[350]\ttrain-error:0.13078\tvalid-error:0.13264\n",
      "[360]\ttrain-error:0.13070\tvalid-error:0.13263\n",
      "[370]\ttrain-error:0.13065\tvalid-error:0.13264\n",
      "[380]\ttrain-error:0.13026\tvalid-error:0.13240\n",
      "[390]\ttrain-error:0.13008\tvalid-error:0.13248\n",
      "[400]\ttrain-error:0.13003\tvalid-error:0.13236\n",
      "[410]\ttrain-error:0.13003\tvalid-error:0.13233\n",
      "[420]\ttrain-error:0.13000\tvalid-error:0.13240\n",
      "[430]\ttrain-error:0.12993\tvalid-error:0.13238\n",
      "[440]\ttrain-error:0.12989\tvalid-error:0.13240\n",
      "[450]\ttrain-error:0.12979\tvalid-error:0.13258\n",
      "[460]\ttrain-error:0.12977\tvalid-error:0.13254\n",
      "[470]\ttrain-error:0.12974\tvalid-error:0.13252\n",
      "[480]\ttrain-error:0.12970\tvalid-error:0.13253\n",
      "[490]\ttrain-error:0.12966\tvalid-error:0.13245\n",
      "[500]\ttrain-error:0.12962\tvalid-error:0.13243\n",
      "[510]\ttrain-error:0.12958\tvalid-error:0.13242\n",
      "[520]\ttrain-error:0.12953\tvalid-error:0.13245\n",
      "[530]\ttrain-error:0.12951\tvalid-error:0.13249\n",
      "[540]\ttrain-error:0.12945\tvalid-error:0.13248\n",
      "[550]\ttrain-error:0.12944\tvalid-error:0.13252\n",
      "[560]\ttrain-error:0.12939\tvalid-error:0.13257\n",
      "[570]\ttrain-error:0.12927\tvalid-error:0.13262\n",
      "[580]\ttrain-error:0.12926\tvalid-error:0.13263\n",
      "[590]\ttrain-error:0.12919\tvalid-error:0.13267\n",
      "[600]\ttrain-error:0.12920\tvalid-error:0.13258\n",
      "[610]\ttrain-error:0.12915\tvalid-error:0.13260\n",
      "[611]\ttrain-error:0.12915\tvalid-error:0.13260\n",
      "Accuracy on test data: 88.182%\n"
     ]
    }
   ],
   "source": [
    "xgb_model(gpu_boost = True, data_oversample = False, objective_hinge = True, output_csv = True)"
   ]
  },
  {
   "cell_type": "code",
   "execution_count": 26,
   "metadata": {},
   "outputs": [],
   "source": [
    "import winsound\n",
    "winsound.Beep(500, 1000)"
   ]
  },
  {
   "cell_type": "code",
   "execution_count": null,
   "metadata": {},
   "outputs": [],
   "source": []
  }
 ],
 "metadata": {
  "kernelspec": {
   "display_name": "Python 3",
   "language": "python",
   "name": "python3"
  },
  "language_info": {
   "codemirror_mode": {
    "name": "ipython",
    "version": 3
   },
   "file_extension": ".py",
   "mimetype": "text/x-python",
   "name": "python",
   "nbconvert_exporter": "python",
   "pygments_lexer": "ipython3",
   "version": "3.7.0"
  }
 },
 "nbformat": 4,
 "nbformat_minor": 5
}
