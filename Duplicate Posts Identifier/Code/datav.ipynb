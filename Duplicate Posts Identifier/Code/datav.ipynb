{
 "cells": [
  {
   "cell_type": "code",
   "execution_count": 1,
   "metadata": {},
   "outputs": [],
   "source": [
    "import pandas as pd\n",
    "import numpy as np"
   ]
  },
  {
   "cell_type": "code",
   "execution_count": 6,
   "metadata": {},
   "outputs": [],
   "source": [
    "d2012=pd.read_excel('401.xlsx',sheet_name='2012')\n",
    "d2013=pd.read_excel('401.xlsx',sheet_name='2013')\n",
    "d2015=pd.read_excel('401.xlsx',sheet_name='2015')\n",
    "d2016=pd.read_excel('401.xlsx',sheet_name='2016')\n",
    "d2017=pd.read_excel('401.xlsx',sheet_name='2017')\n",
    "d2018=pd.read_excel('401.xlsx',sheet_name='2018')"
   ]
  },
  {
   "cell_type": "code",
   "execution_count": 21,
   "metadata": {},
   "outputs": [],
   "source": [
    "def countlabel (x):\n",
    "    y=np.array(x)\n",
    "    li = np.unique(y)\n",
    "    result = []\n",
    "    for i in li:\n",
    "        result.append(np.count_nonzero(y==i))\n",
    "    return result, li"
   ]
  },
  {
   "cell_type": "code",
   "execution_count": 23,
   "metadata": {},
   "outputs": [
    {
     "data": {
      "text/plain": [
       "([38, 47, 65, 50, 2, 129],\n",
       " array(['Active', 'Constructive', 'Content-Clarification', 'Logistical',\n",
       "        'None', 'Note'], dtype=object))"
      ]
     },
     "execution_count": 23,
     "metadata": {},
     "output_type": "execute_result"
    }
   ],
   "source": [
    "a = np.array(d2012['c'])\n",
    "t1,t2 = countlabel (a)\n",
    "t1,t2"
   ]
  },
  {
   "cell_type": "code",
   "execution_count": 26,
   "metadata": {},
   "outputs": [
    {
     "data": {
      "text/plain": [
       "([75, 38, 193, 57, 3, 114],\n",
       " array(['Active', 'Constructive', 'Content-Clarification', 'Logistical',\n",
       "        'None', 'Note'], dtype=object))"
      ]
     },
     "execution_count": 26,
     "metadata": {},
     "output_type": "execute_result"
    }
   ],
   "source": [
    "b = np.array(d2013['c'])\n",
    "t3,t4 = countlabel (b)\n",
    "t3,t4"
   ]
  },
  {
   "cell_type": "code",
   "execution_count": 27,
   "metadata": {},
   "outputs": [
    {
     "data": {
      "text/plain": [
       "([82, 24, 181, 113, 1, 125, 1],\n",
       " array(['Active', 'Constructive', 'Content-Clarification ', 'Logistical',\n",
       "        'None', 'Note', 'Poll'], dtype=object))"
      ]
     },
     "execution_count": 27,
     "metadata": {},
     "output_type": "execute_result"
    }
   ],
   "source": [
    "c = np.array(d2015['c'])\n",
    "t5,t6 = countlabel (c)\n",
    "t5,t6"
   ]
  },
  {
   "cell_type": "code",
   "execution_count": 28,
   "metadata": {},
   "outputs": [
    {
     "data": {
      "text/plain": [
       "([56, 16, 103, 78, 131],\n",
       " array(['Active', 'Constructive', 'Content-Clarification', 'Logistical',\n",
       "        'Note'], dtype=object))"
      ]
     },
     "execution_count": 28,
     "metadata": {},
     "output_type": "execute_result"
    }
   ],
   "source": [
    "d = np.array(d2016['c'])\n",
    "t7,t8 = countlabel (d)\n",
    "t7,t8"
   ]
  },
  {
   "cell_type": "code",
   "execution_count": 29,
   "metadata": {},
   "outputs": [
    {
     "data": {
      "text/plain": [
       "([57, 22, 85, 131, 275, 1],\n",
       " array(['Active', 'Constructive', 'Content-Clarification', 'Logistical',\n",
       "        'Note', 'Poll'], dtype=object))"
      ]
     },
     "execution_count": 29,
     "metadata": {},
     "output_type": "execute_result"
    }
   ],
   "source": [
    "e = np.array(d2017['c'])\n",
    "t9,t10 = countlabel (e)\n",
    "t9,t10"
   ]
  },
  {
   "cell_type": "code",
   "execution_count": 30,
   "metadata": {},
   "outputs": [
    {
     "data": {
      "text/plain": [
       "([46, 43, 42, 108, 7, 115, 1],\n",
       " array(['Active', 'Constructive', 'Content-Clarification', 'Logistical',\n",
       "        'None', 'Note', 'Poll'], dtype=object))"
      ]
     },
     "execution_count": 30,
     "metadata": {},
     "output_type": "execute_result"
    }
   ],
   "source": [
    "f = np.array(d2018['c'])\n",
    "t11,t12= countlabel (f)\n",
    "t11,t12"
   ]
  },
  {
   "cell_type": "code",
   "execution_count": 31,
   "metadata": {},
   "outputs": [],
   "source": [
    "d111=pd.read_excel('411.xlsx',sheet_name='2019s')\n",
    "d112=pd.read_excel('411.xlsx',sheet_name='2019f')\n",
    "d113=pd.read_excel('411.xlsx',sheet_name='2020sa')\n",
    "d114=pd.read_excel('411.xlsx',sheet_name='2020sb')\n",
    "d115=pd.read_excel('411.xlsx',sheet_name='2020f')"
   ]
  },
  {
   "cell_type": "code",
   "execution_count": 32,
   "metadata": {},
   "outputs": [
    {
     "data": {
      "text/plain": [
       "([202, 199, 59, 283, 13, 132, 3],\n",
       " array(['Active', 'Constructive', 'Content-Clarification', 'Logistical',\n",
       "        'None', 'Note', 'Poll'], dtype=object))"
      ]
     },
     "execution_count": 32,
     "metadata": {},
     "output_type": "execute_result"
    }
   ],
   "source": [
    "a1 = np.array(d111['c'])\n",
    "u1,u2 = countlabel (a1)\n",
    "u1,u2"
   ]
  },
  {
   "cell_type": "code",
   "execution_count": 33,
   "metadata": {},
   "outputs": [
    {
     "data": {
      "text/plain": [
       "([82, 80, 58, 187, 7, 118, 1],\n",
       " array(['Active', 'Constructive', 'Content-Clarification', 'Logistical',\n",
       "        'None', 'Note', 'Poll'], dtype=object))"
      ]
     },
     "execution_count": 33,
     "metadata": {},
     "output_type": "execute_result"
    }
   ],
   "source": [
    "a2 = np.array(d112['c'])\n",
    "u3,u4 = countlabel (a2)\n",
    "u3,u4"
   ]
  },
  {
   "cell_type": "code",
   "execution_count": 34,
   "metadata": {},
   "outputs": [
    {
     "data": {
      "text/plain": [
       "([52, 68, 50, 167, 5, 97, 1],\n",
       " array(['Active', 'Constructive', 'Content-Clarification', 'Logistical',\n",
       "        'None', 'Note', 'Poll'], dtype=object))"
      ]
     },
     "execution_count": 34,
     "metadata": {},
     "output_type": "execute_result"
    }
   ],
   "source": [
    "a3 = np.array(d113['c'])\n",
    "u5,u6 = countlabel (a3)\n",
    "u5,u6"
   ]
  },
  {
   "cell_type": "code",
   "execution_count": 35,
   "metadata": {},
   "outputs": [
    {
     "data": {
      "text/plain": [
       "([26, 35, 52, 94, 7, 22],\n",
       " array(['Active', 'Constructive', 'Content-Clarification', 'Logistical',\n",
       "        'None', 'Note'], dtype=object))"
      ]
     },
     "execution_count": 35,
     "metadata": {},
     "output_type": "execute_result"
    }
   ],
   "source": [
    "a4 = np.array(d114['c'])\n",
    "u7,u8 = countlabel (a4)\n",
    "u7,u8"
   ]
  },
  {
   "cell_type": "code",
   "execution_count": 36,
   "metadata": {},
   "outputs": [
    {
     "data": {
      "text/plain": [
       "([67, 95, 142, 187, 4, 66],\n",
       " array(['Active', 'Constructive', 'Content-Clarification', 'Logistical',\n",
       "        'None', 'Note'], dtype=object))"
      ]
     },
     "execution_count": 36,
     "metadata": {},
     "output_type": "execute_result"
    }
   ],
   "source": [
    "a5 = np.array(d115['c'])\n",
    "u9,u10 = countlabel (a5)\n",
    "u9,u10 "
   ]
  },
  {
   "cell_type": "code",
   "execution_count": 37,
   "metadata": {},
   "outputs": [],
   "source": [
    "d121=pd.read_excel('426.xlsx',sheet_name='2019')\n",
    "d122=pd.read_excel('426.xlsx',sheet_name='2020')\n"
   ]
  },
  {
   "cell_type": "code",
   "execution_count": 38,
   "metadata": {},
   "outputs": [
    {
     "data": {
      "text/plain": [
       "([296, 411, 104, 143, 33, 41],\n",
       " array(['Active', 'Constructive', 'Content-Clarification', 'Logistical',\n",
       "        'None', 'Note'], dtype=object))"
      ]
     },
     "execution_count": 38,
     "metadata": {},
     "output_type": "execute_result"
    }
   ],
   "source": [
    "b1 = np.array(d121['c'])\n",
    "g1,g2 = countlabel (b1)\n",
    "g1,g2"
   ]
  },
  {
   "cell_type": "code",
   "execution_count": 39,
   "metadata": {},
   "outputs": [
    {
     "data": {
      "text/plain": [
       "([424, 137, 29, 258, 20, 67],\n",
       " array(['Active', 'Constructive', 'Content-Clarification', 'Logistical',\n",
       "        'None', 'Note'], dtype=object))"
      ]
     },
     "execution_count": 39,
     "metadata": {},
     "output_type": "execute_result"
    }
   ],
   "source": [
    "b2 = np.array(d122['c'])\n",
    "g3,g4 = countlabel (b2)\n",
    "g3,g4"
   ]
  },
  {
   "cell_type": "code",
   "execution_count": null,
   "metadata": {},
   "outputs": [],
   "source": []
  }
 ],
 "metadata": {
  "kernelspec": {
   "display_name": "Python 3",
   "language": "python",
   "name": "python3"
  },
  "language_info": {
   "codemirror_mode": {
    "name": "ipython",
    "version": 3
   },
   "file_extension": ".py",
   "mimetype": "text/x-python",
   "name": "python",
   "nbconvert_exporter": "python",
   "pygments_lexer": "ipython3",
   "version": "3.7.0"
  }
 },
 "nbformat": 4,
 "nbformat_minor": 2
}
